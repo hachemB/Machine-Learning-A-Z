{
 "cells": [
  {
   "cell_type": "markdown",
   "id": "6959daa0",
   "metadata": {},
   "source": [
    "# Import the Libraries"
   ]
  },
  {
   "cell_type": "code",
   "execution_count": null,
   "id": "4877464c",
   "metadata": {},
   "outputs": [],
   "source": []
  },
  {
   "cell_type": "markdown",
   "id": "ca41a5aa",
   "metadata": {},
   "source": [
    "# Import the Dataset"
   ]
  },
  {
   "cell_type": "code",
   "execution_count": null,
   "id": "233572bf",
   "metadata": {},
   "outputs": [],
   "source": []
  },
  {
   "cell_type": "markdown",
   "id": "9dcd3d35",
   "metadata": {},
   "source": [
    "# Spiting the Dataset into training and testing set"
   ]
  },
  {
   "cell_type": "code",
   "execution_count": null,
   "id": "05e43eb3",
   "metadata": {},
   "outputs": [],
   "source": []
  },
  {
   "cell_type": "markdown",
   "id": "4396041f",
   "metadata": {},
   "source": [
    "# Features Scaling "
   ]
  },
  {
   "cell_type": "code",
   "execution_count": null,
   "id": "83804c85",
   "metadata": {},
   "outputs": [],
   "source": []
  },
  {
   "cell_type": "markdown",
   "id": "e5a1526e",
   "metadata": {},
   "source": [
    "# Training the LR Model on the Training Set"
   ]
  },
  {
   "cell_type": "code",
   "execution_count": null,
   "id": "5f19043b",
   "metadata": {},
   "outputs": [],
   "source": []
  },
  {
   "cell_type": "markdown",
   "id": "e11f532b",
   "metadata": {},
   "source": [
    "# Predict a New Value"
   ]
  },
  {
   "cell_type": "code",
   "execution_count": null,
   "id": "f2c2f941",
   "metadata": {},
   "outputs": [],
   "source": []
  },
  {
   "cell_type": "markdown",
   "id": "2901fa3a",
   "metadata": {},
   "source": [
    "# Predict the Testing set"
   ]
  },
  {
   "cell_type": "code",
   "execution_count": null,
   "id": "4a99d80d",
   "metadata": {},
   "outputs": [],
   "source": []
  },
  {
   "cell_type": "markdown",
   "id": "7141adbd",
   "metadata": {},
   "source": [
    "# Making the Confusion Matrix"
   ]
  },
  {
   "cell_type": "code",
   "execution_count": null,
   "id": "956032f2",
   "metadata": {},
   "outputs": [],
   "source": []
  },
  {
   "cell_type": "markdown",
   "id": "74b4acfd",
   "metadata": {},
   "source": [
    "# Visualizing the Training Set Results"
   ]
  },
  {
   "cell_type": "code",
   "execution_count": null,
   "id": "f86eeea8",
   "metadata": {},
   "outputs": [],
   "source": []
  },
  {
   "cell_type": "markdown",
   "id": "868964c0",
   "metadata": {},
   "source": [
    "# Visualizing the Testing Set Results"
   ]
  },
  {
   "cell_type": "code",
   "execution_count": null,
   "id": "e197d1f9",
   "metadata": {},
   "outputs": [],
   "source": []
  }
 ],
 "metadata": {
  "language_info": {
   "name": "python"
  }
 },
 "nbformat": 4,
 "nbformat_minor": 5
}
